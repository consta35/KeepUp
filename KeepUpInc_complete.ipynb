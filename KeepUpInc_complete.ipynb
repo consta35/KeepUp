{
 "cells": [
  {
   "cell_type": "code",
   "execution_count": 8,
   "metadata": {
    "collapsed": false,
    "scrolled": false
   },
   "outputs": [],
   "source": [
    "#1. Trustworthiness of ratingsRatings are susceptible to manipulation, bias etc. \n",
    "#What can you say (quantitatively speaking) about the ratings in this dataset?"
   ]
  },
  {
   "cell_type": "code",
   "execution_count": 2,
   "metadata": {
    "collapsed": false
   },
   "outputs": [],
   "source": [
    "import re\n",
    "review_stats = []\n",
    "\n",
    "pattern =\"reviews:\"\n",
    "with open(\"amazon-meta.txt\", 'r') as f:\n",
    "    for line in f:\n",
    "        if pattern in line:\n",
    "            _, value = line.split(':', 1)\n",
    "            numbers = re.findall(r': [0-9]+', value)\n",
    "            numbers_clean = [float(x[1:].strip()) for x in numbers]\n",
    "            ratings = {'total': numbers_clean[0],\n",
    "                      'downloaded': numbers_clean[1],\n",
    "                      'avg_rating': numbers_clean[2],}\n",
    "            review_stats.append(ratings)"
   ]
  },
  {
   "cell_type": "code",
   "execution_count": 10,
   "metadata": {
    "collapsed": false
   },
   "outputs": [
    {
     "data": {
      "text/plain": [
       "['here is', ' apples  ksjdnfksd: keys psoaskj:']"
      ]
     },
     "execution_count": 10,
     "metadata": {},
     "output_type": "execute_result"
    }
   ],
   "source": [
    "\"here is: apples  ksjdnfksd: keys psoaskj:\".split(':',1)"
   ]
  },
  {
   "cell_type": "code",
   "execution_count": 3,
   "metadata": {
    "collapsed": false
   },
   "outputs": [
    {
     "data": {
      "text/html": [
       "<div>\n",
       "<table border=\"1\" class=\"dataframe\">\n",
       "  <thead>\n",
       "    <tr style=\"text-align: right;\">\n",
       "      <th></th>\n",
       "      <th>avg_rating</th>\n",
       "      <th>downloaded</th>\n",
       "      <th>total</th>\n",
       "    </tr>\n",
       "  </thead>\n",
       "  <tbody>\n",
       "    <tr>\n",
       "      <th>0</th>\n",
       "      <td>5.0</td>\n",
       "      <td>2.0</td>\n",
       "      <td>2.0</td>\n",
       "    </tr>\n",
       "    <tr>\n",
       "      <th>1</th>\n",
       "      <td>4.0</td>\n",
       "      <td>12.0</td>\n",
       "      <td>12.0</td>\n",
       "    </tr>\n",
       "    <tr>\n",
       "      <th>2</th>\n",
       "      <td>5.0</td>\n",
       "      <td>1.0</td>\n",
       "      <td>1.0</td>\n",
       "    </tr>\n",
       "    <tr>\n",
       "      <th>3</th>\n",
       "      <td>4.0</td>\n",
       "      <td>1.0</td>\n",
       "      <td>1.0</td>\n",
       "    </tr>\n",
       "    <tr>\n",
       "      <th>4</th>\n",
       "      <td>0.0</td>\n",
       "      <td>0.0</td>\n",
       "      <td>0.0</td>\n",
       "    </tr>\n",
       "  </tbody>\n",
       "</table>\n",
       "</div>"
      ],
      "text/plain": [
       "   avg_rating  downloaded  total\n",
       "0         5.0         2.0    2.0\n",
       "1         4.0        12.0   12.0\n",
       "2         5.0         1.0    1.0\n",
       "3         4.0         1.0    1.0\n",
       "4         0.0         0.0    0.0"
      ]
     },
     "execution_count": 3,
     "metadata": {},
     "output_type": "execute_result"
    }
   ],
   "source": [
    "import pandas as pd\n",
    "review_data =pd.DataFrame(review_stats)\n",
    "review_data.head()"
   ]
  },
  {
   "cell_type": "code",
   "execution_count": 4,
   "metadata": {
    "collapsed": false
   },
   "outputs": [],
   "source": [
    "import statsmodels.api as sm\n",
    "from statsmodels.formula.api import ols"
   ]
  },
  {
   "cell_type": "code",
   "execution_count": 5,
   "metadata": {
    "collapsed": false,
    "scrolled": true
   },
   "outputs": [
    {
     "name": "stdout",
     "output_type": "stream",
     "text": [
      "                            OLS Regression Results                            \n",
      "==============================================================================\n",
      "Dep. Variable:             avg_rating   R-squared:                       0.007\n",
      "Model:                            OLS   Adj. R-squared:                  0.007\n",
      "Method:                 Least Squares   F-statistic:                     3862.\n",
      "Date:                Fri, 11 Aug 2017   Prob (F-statistic):               0.00\n",
      "Time:                        17:17:22   Log-Likelihood:            -1.1290e+06\n",
      "No. Observations:              542684   AIC:                         2.258e+06\n",
      "Df Residuals:                  542682   BIC:                         2.258e+06\n",
      "Df Model:                           1                                         \n",
      "Covariance Type:            nonrobust                                         \n",
      "==============================================================================\n",
      "                 coef    std err          t      P>|t|      [95.0% Conf. Int.]\n",
      "------------------------------------------------------------------------------\n",
      "Intercept      3.0438      0.003   1135.977      0.000         3.039     3.049\n",
      "downloaded     0.0023   3.66e-05     62.147      0.000         0.002     0.002\n",
      "==============================================================================\n",
      "Omnibus:                   259270.933   Durbin-Watson:                   1.954\n",
      "Prob(Omnibus):                  0.000   Jarque-Bera (JB):            73198.054\n",
      "Skew:                          -0.713   Prob(JB):                         0.00\n",
      "Kurtosis:                       1.902   Cond. No.                         74.6\n",
      "==============================================================================\n",
      "\n",
      "Warnings:\n",
      "[1] Standard Errors assume that the covariance matrix of the errors is correctly specified.\n"
     ]
    }
   ],
   "source": [
    "m = ols('avg_rating ~ downloaded',review_data).fit()\n",
    "print(m.summary())"
   ]
  },
  {
   "cell_type": "code",
   "execution_count": 6,
   "metadata": {
    "collapsed": true
   },
   "outputs": [],
   "source": [
    "# special IPython command to prepare the notebook for matplotlib and other libraries\n",
    "%matplotlib inline \n",
    "\n",
    "import numpy as np\n",
    "import pandas as pd\n",
    "import scipy.stats as stats\n",
    "import matplotlib.pyplot as plt\n",
    "import sklearn\n",
    "\n",
    "import seaborn as sns\n",
    "\n",
    "# special matplotlib argument for improved plots\n",
    "from matplotlib import rcParams\n",
    "sns.set_style(\"whitegrid\")\n",
    "sns.set_context(\"poster\")"
   ]
  },
  {
   "cell_type": "code",
   "execution_count": 7,
   "metadata": {
    "collapsed": false
   },
   "outputs": [
    {
     "data": {
      "text/plain": [
       "<matplotlib.axes._subplots.AxesSubplot at 0x19177e10>"
      ]
     },
     "execution_count": 7,
     "metadata": {},
     "output_type": "execute_result"
    },
    {
     "data": {
      "image/png": "[encoded data removed]",
      "text/plain": [
       "<matplotlib.figure.Figure at 0x19177940>"
      ]
     },
     "metadata": {},
     "output_type": "display_data"
    }
   ],
   "source": [
    "sns.regplot(y=\"downloaded\", x=\"avg_rating\", data=review_data, fit_reg = False)"
   ]
  },
  {
   "cell_type": "code",
   "execution_count": null,
   "metadata": {
    "collapsed": true
   },
   "outputs": [],
   "source": [
    "## the data demonstrates that those products with higher ratings have significantly more downloads."
   ]
  },
  {
   "cell_type": "code",
   "execution_count": null,
   "metadata": {
    "collapsed": true
   },
   "outputs": [],
   "source": [
    "#2. Category bloatConsider the product group named 'Books'. \n",
    "#Each product in this group is associated with categories. \n",
    "#Naturally, with categorization, there are tradeoffs between how broad or specific the categories must be."
   ]
  },
  {
   "cell_type": "code",
   "execution_count": 11,
   "metadata": {
    "collapsed": true
   },
   "outputs": [],
   "source": [
    "file_path = 'amazon-meta.txt'"
   ]
  },
  {
   "cell_type": "code",
   "execution_count": 12,
   "metadata": {
    "collapsed": true
   },
   "outputs": [],
   "source": [
    "items = []\n",
    "\n",
    "with open(file_path) as f:\n",
    "    info = set()\n",
    "    we_are_in_categories = False\n",
    "    item_count = 0\n",
    "    for i, line in enumerate(f):\n",
    "        \n",
    "        if we_are_in_categories:\n",
    "            if ':' in line:\n",
    "                # we've now reached the end of categories\n",
    "                we_are_in_categories = False\n",
    "                continue\n",
    "            set_ = set([l.strip().split('[', 1)[0]\n",
    "                     for l in line.strip().split('|') if len(l.strip().split('[', 1)[0]) > 1])\n",
    "            info = info.union(set_)\n",
    "        \n",
    "        elif 'categories:' in line:\n",
    "            we_are_in_categories = True\n",
    "        \n",
    "        # reached the end of the item\n",
    "        elif len(line.strip()) == 0:\n",
    "            # Only save the categories if at least 1 was found\n",
    "            if len(info) > 0:\n",
    "                items.append(info)\n",
    "                \n",
    "            info = set()\n",
    "            \n",
    "            item_count += 1\n",
    "            if item_count > 100:\n",
    "                break"
   ]
  },
  {
   "cell_type": "code",
   "execution_count": 13,
   "metadata": {
    "collapsed": false,
    "scrolled": false
   },
   "outputs": [
    {
     "data": {
      "text/plain": [
       "[{'Books',\n",
       "  'Christianity',\n",
       "  'Clergy',\n",
       "  'Preaching',\n",
       "  'Religion & Spirituality',\n",
       "  'Sermons',\n",
       "  'Subjects'},\n",
       " {'Books',\n",
       "  'Earth-Based Religions',\n",
       "  'Religion & Spirituality',\n",
       "  'Subjects',\n",
       "  'Wicca',\n",
       "  'Witchcraft'},\n",
       " {'Books', 'Crafts & Hobbies', 'General', 'Home & Garden', 'Subjects'}]"
      ]
     },
     "execution_count": 13,
     "metadata": {},
     "output_type": "execute_result"
    }
   ],
   "source": [
    "items[:3]"
   ]
  },
  {
   "cell_type": "code",
   "execution_count": 22,
   "metadata": {
    "collapsed": false
   },
   "outputs": [],
   "source": [
    "all_combo = [\n",
    "    tuple(sorted(combo))  # why am i doing this???\n",
    "    for item in items\n",
    "    for combo in list(combinations(item, 1))\n",
    "]\n",
    "#Counter(items).most_common()[:20]"
   ]
  },
  {
   "cell_type": "code",
   "execution_count": 23,
   "metadata": {
    "collapsed": false,
    "scrolled": true
   },
   "outputs": [
    {
     "data": {
      "text/plain": [
       "[('Preaching',),\n",
       " ('Christianity',),\n",
       " ('Subjects',),\n",
       " ('Clergy',),\n",
       " ('Religion & Spirituality',)]"
      ]
     },
     "execution_count": 23,
     "metadata": {},
     "output_type": "execute_result"
    }
   ],
   "source": [
    "all_combo[:5]"
   ]
  },
  {
   "cell_type": "code",
   "execution_count": 28,
   "metadata": {
    "collapsed": false,
    "scrolled": true
   },
   "outputs": [
    {
     "data": {
      "text/plain": [
       "[(('Books',), 81),\n",
       " (('Subjects',), 80),\n",
       " (('General',), 78),\n",
       " (('Amazon.com Stores',), 15),\n",
       " ((\"Children's Books\",), 14),\n",
       " (('Specialty Stores',), 14),\n",
       " (('Literature & Fiction',), 13),\n",
       " (('Religion & Spirituality',), 11),\n",
       " (('Nonfiction',), 10),\n",
       " (('Christianity',), 9),\n",
       " (('Music',), 9),\n",
       " (('Reference',), 9),\n",
       " (('Literature',), 9),\n",
       " (('Home & Office',), 9),\n",
       " (('Categories',), 9),\n",
       " (('Styles',), 8),\n",
       " (('Business & Investing',), 8),\n",
       " (('United States',), 8),\n",
       " (('Business & Investing Books',), 8),\n",
       " (('Classics',), 8)]"
      ]
     },
     "execution_count": 28,
     "metadata": {},
     "output_type": "execute_result"
    }
   ],
   "source": [
    "Counter(all_combo).most_common()[:20]"
   ]
  },
  {
   "cell_type": "code",
   "execution_count": 32,
   "metadata": {
    "collapsed": false,
    "scrolled": true
   },
   "outputs": [
    {
     "data": {
      "text/plain": [
       "1134"
      ]
     },
     "execution_count": 32,
     "metadata": {},
     "output_type": "execute_result"
    }
   ],
   "source": [
    "sum(Counter(all_combo).values())   "
   ]
  },
  {
   "cell_type": "code",
   "execution_count": 14,
   "metadata": {
    "collapsed": true
   },
   "outputs": [],
   "source": [
    "from itertools import combinations"
   ]
  },
  {
   "cell_type": "code",
   "execution_count": 15,
   "metadata": {
    "collapsed": true
   },
   "outputs": [],
   "source": [
    "all_combos = [\n",
    "    tuple(sorted(combo))  # why am i doing this???\n",
    "    for item in items\n",
    "    for combo in list(combinations(item, 2))\n",
    "]"
   ]
  },
  {
   "cell_type": "code",
   "execution_count": 16,
   "metadata": {
    "collapsed": false,
    "scrolled": true
   },
   "outputs": [
    {
     "data": {
      "text/plain": [
       "[('Christianity', 'Preaching'),\n",
       " ('Preaching', 'Subjects'),\n",
       " ('Clergy', 'Preaching'),\n",
       " ('Preaching', 'Religion & Spirituality'),\n",
       " ('Preaching', 'Sermons')]"
      ]
     },
     "execution_count": 16,
     "metadata": {},
     "output_type": "execute_result"
    }
   ],
   "source": [
    "all_combos[:5]"
   ]
  },
  {
   "cell_type": "code",
   "execution_count": 17,
   "metadata": {
    "collapsed": true
   },
   "outputs": [],
   "source": [
    "from collections import Counter"
   ]
  },
  {
   "cell_type": "code",
   "execution_count": 20,
   "metadata": {
    "collapsed": false,
    "scrolled": true
   },
   "outputs": [
    {
     "data": {
      "text/plain": [
       "[(('Books', 'Subjects'), 80),\n",
       " (('Books', 'General'), 63),\n",
       " (('General', 'Subjects'), 62),\n",
       " (('Amazon.com Stores', 'General'), 14),\n",
       " (('Books', \"Children's Books\"), 14),\n",
       " ((\"Children's Books\", 'Subjects'), 13),\n",
       " (('Books', 'Literature & Fiction'), 13),\n",
       " (('General', 'Literature & Fiction'), 13),\n",
       " (('General', 'Specialty Stores'), 12),\n",
       " (('Literature & Fiction', 'Subjects'), 12),\n",
       " (('Amazon.com Stores', 'Books'), 11),\n",
       " (('Religion & Spirituality', 'Subjects'), 11),\n",
       " (('Books', 'Religion & Spirituality'), 11),\n",
       " (('Amazon.com Stores', 'Subjects'), 11),\n",
       " (('Books', 'Nonfiction'), 10),\n",
       " (('Nonfiction', 'Subjects'), 10),\n",
       " ((\"Children's Books\", 'Literature'), 9),\n",
       " (('Literature', 'Subjects'), 9),\n",
       " (('Christianity', 'Subjects'), 9),\n",
       " (('Books', 'Home & Office'), 9)]"
      ]
     },
     "execution_count": 20,
     "metadata": {},
     "output_type": "execute_result"
    }
   ],
   "source": [
    "Counter(all_combos).most_common()[:20]"
   ]
  },
  {
   "cell_type": "code",
   "execution_count": null,
   "metadata": {
    "collapsed": true
   },
   "outputs": [],
   "source": [
    "### The data demonstrate that Categories 'Books', 'Subjects', and 'General' make up the majority of the category \n",
    "### combinations. Eliminating just one of these categories would eliminate 10% of of the category options."
   ]
  },
  {
   "cell_type": "code",
   "execution_count": null,
   "metadata": {
    "collapsed": true
   },
   "outputs": [],
   "source": []
  },
  {
   "cell_type": "code",
   "execution_count": null,
   "metadata": {
    "collapsed": true
   },
   "outputs": [],
   "source": [
    "#1. Algorithm thinkingHow would build the product categorization fromscratch, using similar/co-purchased information? "
   ]
  },
  {
   "cell_type": "code",
   "execution_count": null,
   "metadata": {
    "collapsed": true
   },
   "outputs": [],
   "source": [
    "## Categories would be made in hierarchy to group individual products into\n",
    "## classes and families. Products that are bought frequently together and have similar descriptions could be grouped \n",
    "## together to create classes of categories."
   ]
  },
  {
   "cell_type": "code",
   "execution_count": null,
   "metadata": {
    "collapsed": true
   },
   "outputs": [],
   "source": [
    "#2. Product thinkingNow, put on your 'product thinking' hat.\n",
    "#a. Is it a good idea to show users the categorizationhierarchyfor items?\n",
    "\n",
    "## The hierarchy of an item is mainly used by the company so that indivudal\n",
    "## commodities represent unique instances of larger classes and families. \n",
    "## THe hierarchical organization allos the company to focus on the level\n",
    "## of specificity that best suits a given situation. As such, this is not\n",
    "## information that would directly benefit the customer"
   ]
  },
  {
   "cell_type": "code",
   "execution_count": null,
   "metadata": {
    "collapsed": true
   },
   "outputs": [],
   "source": [
    "#b. Is it a good idea to show users similar/co-purchased items?\n",
    "## It is a good idea to show customers similar/co-purchased items as this\n",
    "## may entice customers to make additional purchases that they may not\n",
    "## have originally intended to make\n"
   ]
  },
  {
   "cell_type": "code",
   "execution_count": null,
   "metadata": {
    "collapsed": true
   },
   "outputs": [],
   "source": [
    "#c. Is it a good idea to show users reviews andratingsfor items?\n",
    "\n",
    "## Reviews and ratings support the consumer and allow the consumer to \n",
    "## hear from others how well the product fit their needs. Showing consumers\n",
    "## product ratings can increase consumer confidence in the product, and lead\n",
    "## to more purchases"
   ]
  },
  {
   "cell_type": "code",
   "execution_count": null,
   "metadata": {
    "collapsed": true
   },
   "outputs": [],
   "source": []
  },
  {
   "cell_type": "code",
   "execution_count": null,
   "metadata": {
    "collapsed": true
   },
   "outputs": [],
   "source": []
  },
  {
   "cell_type": "code",
   "execution_count": null,
   "metadata": {
    "collapsed": true
   },
   "outputs": [],
   "source": []
  },
  {
   "cell_type": "code",
   "execution_count": null,
   "metadata": {
    "collapsed": true
   },
   "outputs": [],
   "source": []
  }
 ],
 "metadata": {
  "anaconda-cloud": {},
  "kernelspec": {
   "display_name": "Python [conda root]",
   "language": "python",
   "name": "conda-root-py"
  },
  "language_info": {
   "codemirror_mode": {
    "name": "ipython",
    "version": 2
   },
   "file_extension": ".py",
   "mimetype": "text/x-python",
   "name": "python",
   "nbconvert_exporter": "python",
   "pygments_lexer": "ipython2",
   "version": "2.7.12"
  }
 },
 "nbformat": 4,
 "nbformat_minor": 1
}
